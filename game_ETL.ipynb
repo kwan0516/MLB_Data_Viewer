{
 "cells": [
  {
   "cell_type": "code",
   "execution_count": null,
   "metadata": {},
   "outputs": [],
   "source": [
    "'''\n",
    "CREATE TABLE ko_game (\n",
    "    gameKey INT AUTO_INCREMENT,\n",
    "    gameid INT,\n",
    "    date Date,\n",
    "    homeKey INT,\n",
    "    homeTeam VARCHAR(50),\n",
    "    homeid INT,\n",
    "    awayKey INT,\n",
    "    awayTeam VARCHAR(50),\n",
    "    awayid INT,\n",
    "    homeScore INT,\n",
    "    awayScore INT,\n",
    "\n",
    "    PRIMARY KEY (gameKey)\n",
    ")\n",
    "\n",
    "'''"
   ]
  },
  {
   "cell_type": "code",
   "execution_count": 17,
   "metadata": {},
   "outputs": [
    {
     "name": "stdout",
     "output_type": "stream",
     "text": [
      "{109: 1, 144: 2, 110: 3, 111: 4, 112: 5, 145: 6, 113: 7, 114: 8, 115: 9, 116: 10, 117: 11, 118: 12, 108: 13, 119: 14, 146: 15, 158: 16, 142: 17, 121: 18, 147: 19, 133: 20, 143: 21, 134: 22, 135: 23, 137: 24, 136: 25, 138: 26, 139: 27, 140: 28, 141: 29, 120: 30}\n"
     ]
    }
   ],
   "source": [
    "\n"
   ]
  },
  {
   "cell_type": "code",
   "execution_count": 2,
   "metadata": {},
   "outputs": [],
   "source": [
    "import statsapi\n",
    "sched = statsapi.schedule(start_date='01/01/2024',end_date='12/30/2024')\n",
    "# team id key dict\n",
    "t_info = {}\n",
    "\n",
    "from team import team\n",
    "t = team()\n",
    "t.getAll()\n",
    "for tt in t.data:\n",
    "    t_info[tt[\"teamid\"]] = tt['teamKey']\n",
    "    \n",
    "game_list = []\n",
    "for i in sched:\n",
    "    if i['status'] == 'Final' and i['game_type'] == \"R\":\n",
    "        game = {}\n",
    "        game['gameid'] = i['game_id']\n",
    "        game['date'] = i['game_date']\n",
    "        game['awayTeam'] = i['away_name']\n",
    "        game['homeTeam'] = i['home_name']\n",
    "        game['awayKey'] = t_info[i['away_id']]\n",
    "        game['homeKey'] = t_info[i['home_id']]\n",
    "        game['awayid'] = i['away_id']\n",
    "        game['homeid'] = i['home_id']\n",
    "        game['homeScore'] = i['home_score']\n",
    "        game['awayScore'] = i['away_score']\n",
    "        game_list.append(game)\n",
    "        # print(i)\n",
    "\n"
   ]
  },
  {
   "cell_type": "code",
   "execution_count": 3,
   "metadata": {},
   "outputs": [
    {
     "name": "stdout",
     "output_type": "stream",
     "text": [
      "INSERT INTO `ko_game` (`gameid`,`date`,`homeKey`,`homeTeam`,`homeid`,`awayKey`,`awayTeam`,`awayid`,`homeScore`,`awayScore`) VALUES (%s,%s,%s,%s,%s,%s,%s,%s,%s,%s);\n"
     ]
    }
   ],
   "source": [
    "from game import game\n",
    "g = game()\n",
    "g.truncate()\n",
    "count = 0\n",
    "sql = f\"INSERT INTO `{g.tn}` (\"\n",
    "for field in g.fields:\n",
    "    sql += f\"`{field}`,\"\n",
    "    count +=1\n",
    "sql = sql[0:-1] + ') VALUES ('\n",
    "tokens = (\"%s,\" * count)[0:-1]\n",
    "sql += tokens + ');'\n",
    "print(sql)\n",
    "n = 0\n",
    "vals = []\n",
    "for g_data in game_list:\n",
    "    val = []\n",
    "    for field in g.fields:\n",
    "        val.append(g_data[field])\n",
    "    vals.append(val)\n",
    "    if n % 50 == 0:\n",
    "        g.cur.executemany(sql,vals)\n",
    "        vals = []\n",
    "if len(vals) > 0:\n",
    "    g.cur.executemany(sql,vals)\n",
    "# print(sql,vals)\n"
   ]
  },
  {
   "cell_type": "code",
   "execution_count": null,
   "metadata": {},
   "outputs": [],
   "source": [
    "'''\n",
    "SELECT *, ko_team.teamKey\n",
    "FROM ko_game\n",
    "JOIN ko_team \n",
    "ON ko_game.homeid=ko_team.teamid;\n",
    "'''"
   ]
  },
  {
   "cell_type": "code",
   "execution_count": null,
   "metadata": {},
   "outputs": [],
   "source": []
  }
 ],
 "metadata": {
  "kernelspec": {
   "display_name": "Python 3",
   "language": "python",
   "name": "python3"
  },
  "language_info": {
   "codemirror_mode": {
    "name": "ipython",
    "version": 3
   },
   "file_extension": ".py",
   "mimetype": "text/x-python",
   "name": "python",
   "nbconvert_exporter": "python",
   "pygments_lexer": "ipython3",
   "version": "3.12.1"
  }
 },
 "nbformat": 4,
 "nbformat_minor": 2
}
