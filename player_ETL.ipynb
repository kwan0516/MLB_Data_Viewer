{
 "cells": [
  {
   "cell_type": "code",
   "execution_count": null,
   "metadata": {},
   "outputs": [],
   "source": []
  },
  {
   "cell_type": "markdown",
   "metadata": {},
   "source": [
    "CREATE TABLE ko_players (\n",
    "    playerKey INT AUTO_INCREMENT,\n",
    "    f_name VARCHAR(20),\n",
    "    l_name VARCHAR(20), \n",
    "    playerID INT,\n",
    "\tteam VARCHAR(50),\n",
    "    number INT,\n",
    "    height VARCHAR(10),\n",
    "    weight VARCHAR(10),\n",
    "    birthday DATE,\n",
    "    MLB_debut_date DATE,\n",
    "    position VARCHAR(30),\n",
    "    BT VARCHAR(10),\n",
    "    PA INT NOT NULL,\n",
    "    AB INT NOT NULL,\n",
    "    H INT NOT NULL,\n",
    "    BB INT NOT NULL,\n",
    "    RBI INT NOT NULL,\n",
    "    `AVG` DECIMAL(4,3) NOT NULL,\n",
    "    SLG DECIMAL(4,3) NOT NULL,\n",
    "    OBP DECIMAL(4,3) NOT NULL,\n",
    "    OPS DECIMAL(4,3) NOT NULL,\n",
    "    PRIMARY KEY (playerKey)\n",
    ")"
   ]
  },
  {
   "cell_type": "markdown",
   "metadata": {},
   "source": [
    "populate player data"
   ]
  },
  {
   "cell_type": "code",
   "execution_count": 4,
   "metadata": {},
   "outputs": [
    {
     "name": "stdout",
     "output_type": "stream",
     "text": [
      "{109: 'Arizona Diamondbacks', 144: 'Atlanta Braves', 110: 'Baltimore Orioles', 111: 'Boston Red Sox', 112: 'Chicago Cubs', 145: 'Chicago White Sox', 113: 'Cincinnati Reds', 114: 'Cleveland Guardians', 115: 'Colorado Rockies', 116: 'Detroit Tigers', 117: 'Houston Astros', 118: 'Kansas City Royals', 108: 'Los Angeles Angels', 119: 'Los Angeles Dodgers', 146: 'Miami Marlins', 158: 'Milwaukee Brewers', 142: 'Minnesota Twins', 121: 'New York Mets', 147: 'New York Yankees', 133: 'Athletics', 143: 'Philadelphia Phillies', 134: 'Pittsburgh Pirates', 135: 'San Diego Padres', 137: 'San Francisco Giants', 136: 'Seattle Mariners', 138: 'St. Louis Cardinals', 139: 'Tampa Bay Rays', 140: 'Texas Rangers', 141: 'Toronto Blue Jays', 120: 'Washington Nationals'}\n"
     ]
    }
   ],
   "source": [
    "# Get team ID\n",
    "import statsapi\n",
    "import json\n",
    " \n",
    "# Opening JSON file\n",
    "with open('teams.json', 'r') as openfile:\n",
    "    # Reading from json file\n",
    "    t_list = json.load(openfile)\n",
    "\n",
    "t_info = {}\n",
    "for team in t_list['teams']:\n",
    "    res = statsapi.lookup_team(team)[0]\n",
    "\n",
    "    t_info[res['id']] = res[\"name\"]\n",
    "print(t_info)"
   ]
  },
  {
   "cell_type": "code",
   "execution_count": 5,
   "metadata": {},
   "outputs": [],
   "source": [
    "#Get the players ID and jersey number for roster \n",
    "id_num = {}\n",
    "\n",
    "for t_id in t_info.keys():\n",
    "\n",
    "    t_roster = statsapi.get('team_roster', {'teamId':t_id})\n",
    "    for k in t_roster['roster']:\n",
    "        if k['person']['id'] in id_num.keys():\n",
    "            print(\"ID duplicated\")\n",
    "        else:\n",
    "            try:\n",
    "                id_num[k['person']['id']] = int(k['jerseyNumber'])\n",
    "            except:\n",
    "                id_num[k['person']['id']] = 999"
   ]
  },
  {
   "cell_type": "code",
   "execution_count": null,
   "metadata": {},
   "outputs": [],
   "source": [
    "from player import player\n",
    "p = player()\n",
    "p.getAll()\n",
    "for pl in p.data:\n",
    "    if pl['position'] == 'P':\n",
    "        try:\n",
    "            p_stat = statsapi.player_stat_data(str(pl[\"playerID\"]), 'pitching', 'season')\n",
    "        except:\n",
    "            continue\n",
    "        print(p_stat['stats'][0]['stats']['gamesPlayed'])\n",
    "    else:\n",
    "        try:\n",
    "            p_stat = statsapi.player_stat_data(str(pl[\"playerID\"]), 'hitting', 'season')\n",
    "        except:\n",
    "            continue\n",
    "        print(p_stat['stats'][0]['stats']['plateAppearances'])\n",
    "        "
   ]
  },
  {
   "cell_type": "code",
   "execution_count": null,
   "metadata": {},
   "outputs": [],
   "source": [
    "#Get all the players\n",
    "import statsapi\n",
    "pl = statsapi.get('sports_players',{'season':2024})\n",
    "n = 0 \n",
    "pitcher_list = []\n",
    "batter_list = []\n",
    "for p in pl['people']:\n",
    "    if p[\"id\"] in id_num:\n",
    "        print(p['currentTeam'])\n",
    "        player = {}\n",
    "        player[\"f_name\"] = p['firstName']\n",
    "        player[\"l_name\"] = p['lastName']\n",
    "        player[\"playerID\"] = p[\"id\"]\n",
    "        player[\"team\"] = t_info[p['currentTeam']['id']]\n",
    "        player[\"number\"] = id_num[p[\"id\"]]\n",
    "        player[\"height\"] = p['height']\n",
    "        player['weight'] = p['weight']\n",
    "        player[\"birthday\"] = p[\"birthDate\"]\n",
    "        try:\n",
    "            player[\"MLB_debut_date\"] = p[\"mlbDebutDate\"]\n",
    "        except:\n",
    "            player[\"MLB_debut_date\"] = None\n",
    "        player[\"BT\"] = f\"{p[\"batSide\"][\"code\"]}/{p[\"pitchHand\"][\"code\"]}\"\n",
    "        player[\"position\"] = p[\"primaryPosition\"]['abbreviation']\n",
    "        # print(\"id\",p[\"id\"])\n",
    "        if player[\"position\"] == 'P':\n",
    "            try:\n",
    "                p_stat = statsapi.player_stat_data(str(p[\"id\"]), 'pitching', 'season')\n",
    "            except:\n",
    "                continue\n",
    "            player['G'] = p_stat['stats'][0]['stats']['gamesPlayed']\n",
    "            player['GS'] = p_stat['stats'][0]['stats']['gamesStarted']\n",
    "            player['R'] = p_stat['stats'][0]['stats']['runs']\n",
    "            player['BB'] = p_stat['stats'][0]['stats']['baseOnBalls']\n",
    "            player['H'] = p_stat['stats'][0]['stats']['hits']\n",
    "            player['ERA'] = p_stat['stats'][0]['stats']['era']\n",
    "            player['IP'] = p_stat['stats'][0]['stats']['inningsPitched']\n",
    "            player['W'] = p_stat['stats'][0]['stats']['wins']\n",
    "            player['L'] = p_stat['stats'][0]['stats']['losses']\n",
    "            player['S'] = p_stat['stats'][0]['stats']['saves']\n",
    "            player['H'] = p_stat['stats'][0]['stats']['holds']\n",
    "            player['BS'] = p_stat['stats'][0]['stats']['blownSaves']\n",
    "            player['ER'] = p_stat['stats'][0]['stats']['earnedRuns']\n",
    "            pitcher_list.append(player)\n",
    "        else:\n",
    "            p_stat = statsapi.player_stat_data(p[\"id\"], 'hitting', 'season')\n",
    "            player['PA'] = p_stat['stats'][0]['stats']['plateAppearances']\n",
    "            player['AB'] = p_stat['stats'][0]['stats']['atBats']\n",
    "            player['H'] = p_stat['stats'][0]['stats']['hits']\n",
    "            player['BB'] = p_stat['stats'][0]['stats']['baseOnBalls']\n",
    "            player['RBI'] = p_stat['stats'][0]['stats']['rbi']\n",
    "            player['AVG'] = p_stat['stats'][0]['stats']['avg']\n",
    "            player['SLG'] = p_stat['stats'][0]['stats']['slg']\n",
    "            player['OBP'] = p_stat['stats'][0]['stats']['obp']\n",
    "            player['OPS'] = p_stat['stats'][0]['stats']['ops']\n",
    "            batter_list.append(player)"
   ]
  },
  {
   "cell_type": "code",
   "execution_count": 16,
   "metadata": {},
   "outputs": [],
   "source": [
    "from player import player\n",
    "p = player()\n",
    "count = 0\n",
    "sql = f\"INSERT INTO `{p.tn}` (\"\n",
    "for field in p.fields:\n",
    "    sql += f\"`{field}`,\"\n",
    "    count +=1\n",
    "sql = sql[0:-1] + ') VALUES ('\n",
    "tokens = (\"%s,\" * count)[0:-1]\n",
    "sql += tokens + ');'\n",
    "\n",
    "vals = []\n",
    "n = 0\n",
    "for pl in batter_list:\n",
    "    n += 1\n",
    "    val = []\n",
    "    for field in p.fields:\n",
    "        if field not in pl.keys():\n",
    "            val.append(0)\n",
    "        else:\n",
    "            val.append(pl[field])\n",
    "    vals.append(val)\n",
    "    if n % 50 == 0:\n",
    "        p.cur.executemany(sql,vals)\n",
    "        vals = []\n",
    "if len(vals) > 0:\n",
    "    p.cur.executemany(sql,vals)\n",
    "# print(sql,vals)\n"
   ]
  }
 ],
 "metadata": {
  "kernelspec": {
   "display_name": "Python 3",
   "language": "python",
   "name": "python3"
  },
  "language_info": {
   "codemirror_mode": {
    "name": "ipython",
    "version": 3
   },
   "file_extension": ".py",
   "mimetype": "text/x-python",
   "name": "python",
   "nbconvert_exporter": "python",
   "pygments_lexer": "ipython3",
   "version": "3.12.1"
  }
 },
 "nbformat": 4,
 "nbformat_minor": 2
}
