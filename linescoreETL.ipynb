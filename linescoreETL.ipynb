{
 "cells": [
  {
   "cell_type": "code",
   "execution_count": null,
   "metadata": {},
   "outputs": [],
   "source": [
    "'''\n",
    "CREATE TABLE ko_linescore (\n",
    "    gameid INT,\n",
    "    titel VARCHAR(3)\n",
    "    away INT,\n",
    "    home INT\n",
    ")\n",
    "'''"
   ]
  },
  {
   "cell_type": "code",
   "execution_count": 12,
   "metadata": {},
   "outputs": [],
   "source": [
    "from linescore import linescore\n",
    "import statsapi\n",
    "from game import game\n",
    "gl = game()\n",
    "gl.getAll()\n",
    "l_s = linescore()\n",
    "l_s.truncate\n",
    "count = 0\n",
    "sql = f\"INSERT INTO `{l_s.tn}` (\"\n",
    "for field in l_s.fields:\n",
    "    sql += f\"`{field}`,\"\n",
    "    count +=1\n",
    "sql = sql[0:-1] + ') VALUES ('\n",
    "tokens = (\"%s,\" * count)[0:-1]\n",
    "sql += tokens + ');'\n",
    "\n",
    "for g in gl.data:\n",
    "    line_score = []\n",
    "    g_get = statsapi.get('game', {'gamePk': g['gameid']})\n",
    "    for inning in g_get['liveData']['linescore']['innings']:\n",
    "        rec = {}\n",
    "        rec['gameid'] = g['gameid']\n",
    "        rec['title'] = inning['num']\n",
    "        rec['away'] = inning['away']['runs']\n",
    "        try:\n",
    "            rec['home'] = inning['home']['runs']\n",
    "        except:\n",
    "            rec['home'] = 0\n",
    "        line_score.append(rec)\n",
    "    r = {}\n",
    "    h = {}\n",
    "    e = {}\n",
    "    r['gameid'] =g['gameid']\n",
    "    h['gameid'] =g['gameid']\n",
    "    e['gameid'] =g['gameid']\n",
    "    r['title'] = \"R\"\n",
    "    h['title'] = \"H\"\n",
    "    e['title'] = \"E\"\n",
    "    for k, v in g_get['liveData']['linescore']['teams'].items():\n",
    "        r[k] = v['runs']\n",
    "        h[k] = v['hits']\n",
    "        e[k] = v['errors']\n",
    "\n",
    "    line_score.append(r)\n",
    "    line_score.append(h)\n",
    "    line_score.append(e)\n",
    "\n",
    "\n",
    "    vals = []\n",
    "    for e in line_score:\n",
    "        val = []\n",
    "        for field in l_s.fields:\n",
    "            val.append(e[field])\n",
    "        vals.append(val)\n",
    "    # print(sql,(vals))\n",
    "    l_s.cur.executemany(sql,vals)\n",
    "\n"
   ]
  }
 ],
 "metadata": {
  "kernelspec": {
   "display_name": "Python 3",
   "language": "python",
   "name": "python3"
  },
  "language_info": {
   "codemirror_mode": {
    "name": "ipython",
    "version": 3
   },
   "file_extension": ".py",
   "mimetype": "text/x-python",
   "name": "python",
   "nbconvert_exporter": "python",
   "pygments_lexer": "ipython3",
   "version": "3.12.1"
  }
 },
 "nbformat": 4,
 "nbformat_minor": 2
}
